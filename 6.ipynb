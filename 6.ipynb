{
 "cells": [
  {
   "cell_type": "code",
   "execution_count": 1,
   "id": "c0e68a3a",
   "metadata": {},
   "outputs": [
    {
     "name": "stdout",
     "output_type": "stream",
     "text": [
      "Custom Exception: Invalid value: Value cannot be negative.\n"
     ]
    }
   ],
   "source": [
    "class CustomException(Exception):\n",
    "    def __init__(self, message):\n",
    "        self.message = message\n",
    "        super().__init__(self.message)\n",
    "\n",
    "def perform_operation(value):\n",
    "    try:\n",
    "        if value < 0:\n",
    "            raise CustomException(\"Invalid value: Value cannot be negative.\")\n",
    "        else:\n",
    "            print(\"Operation successfully completed.\")\n",
    "    except CustomException as e:\n",
    "        print(\"Custom Exception:\", str(e))\n",
    "\n",
    "# Example: Handling a custom exception\n",
    "value = -5\n",
    "perform_operation(value)\n"
   ]
  },
  {
   "cell_type": "markdown",
   "id": "8c8f8994",
   "metadata": {},
   "source": [
    "In this example, we define a custom exception class called CustomException that inherits from the base Exception class. The CustomException class has an initializer that takes a message as a parameter. It stores the message and calls the initializer of the base class with the provided message.\n",
    "\n",
    "The perform_operation() function represents some operation that can raise the custom exception. Inside the function, we use a try-except block to catch the CustomException specifically. If the value is less than 0, we raise the CustomException with an appropriate error message. Otherwise, we print a success message.\n",
    "\n",
    "In the example usage, we set value to -5, which triggers the CustomException. The perform_operation() function catches the exception and prints the custom exception message."
   ]
  }
 ],
 "metadata": {
  "kernelspec": {
   "display_name": "Python 3 (ipykernel)",
   "language": "python",
   "name": "python3"
  },
  "language_info": {
   "codemirror_mode": {
    "name": "ipython",
    "version": 3
   },
   "file_extension": ".py",
   "mimetype": "text/x-python",
   "name": "python",
   "nbconvert_exporter": "python",
   "pygments_lexer": "ipython3",
   "version": "3.10.9"
  }
 },
 "nbformat": 4,
 "nbformat_minor": 5
}
