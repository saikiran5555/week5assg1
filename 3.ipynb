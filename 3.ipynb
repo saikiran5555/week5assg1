{
 "cells": [
  {
   "cell_type": "markdown",
   "id": "894505f8",
   "metadata": {},
   "source": [
    "In Python, the try-except statement is used to catch and handle exceptions. It allows you to specify a block of code to be executed within the try block, and if an exception occurs, you can define one or more except blocks to handle specific types of exceptions. "
   ]
  },
  {
   "cell_type": "code",
   "execution_count": 1,
   "id": "d50b526f",
   "metadata": {},
   "outputs": [
    {
     "name": "stdout",
     "output_type": "stream",
     "text": [
      "Cannot divide by zero.\n",
      "Invalid operand types.\n"
     ]
    }
   ],
   "source": [
    "def divide(a, b):\n",
    "    try:\n",
    "        result = a / b\n",
    "        print(\"Result:\", result)\n",
    "    except ZeroDivisionError:\n",
    "        print(\"Cannot divide by zero.\")\n",
    "    except TypeError:\n",
    "        print(\"Invalid operand types.\")\n",
    "    except Exception as e:\n",
    "        print(\"An error occurred:\", str(e))\n",
    "\n",
    "# Example 1: Division by zero\n",
    "divide(10, 0)\n",
    "\n",
    "# Example 2: Invalid operand types\n",
    "divide(\"10\", 2)\n"
   ]
  },
  {
   "cell_type": "code",
   "execution_count": null,
   "id": "f0ba50bd",
   "metadata": {},
   "outputs": [],
   "source": []
  }
 ],
 "metadata": {
  "kernelspec": {
   "display_name": "Python 3 (ipykernel)",
   "language": "python",
   "name": "python3"
  },
  "language_info": {
   "codemirror_mode": {
    "name": "ipython",
    "version": 3
   },
   "file_extension": ".py",
   "mimetype": "text/x-python",
   "name": "python",
   "nbconvert_exporter": "python",
   "pygments_lexer": "ipython3",
   "version": "3.10.9"
  }
 },
 "nbformat": 4,
 "nbformat_minor": 5
}
