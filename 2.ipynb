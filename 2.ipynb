{
 "cells": [
  {
   "cell_type": "markdown",
   "id": "d6b5a4a7",
   "metadata": {},
   "source": [
    "When an exception is not handled in Python, it leads to an unhandled exception error, also known as an uncaught exception. When an unhandled exception occurs, the program execution is abruptly terminated, and an error message is displayed, indicating the type of exception and a traceback that shows the path of execution leading to the exception."
   ]
  },
  {
   "cell_type": "code",
   "execution_count": 3,
   "id": "1cf4ac42",
   "metadata": {},
   "outputs": [
    {
     "name": "stdout",
     "output_type": "stream",
     "text": [
      "Cannot divide by zero\n"
     ]
    }
   ],
   "source": [
    "def divide(a, b):\n",
    "    try:\n",
    "        result = a / b\n",
    "        print(result)\n",
    "    except ZeroDivisionError:\n",
    "        print(\"Cannot divide by zero\")\n",
    "\n",
    "# Calling the function with invalid arguments\n",
    "divide(10, 0)\n"
   ]
  },
  {
   "cell_type": "code",
   "execution_count": null,
   "id": "42d69801",
   "metadata": {},
   "outputs": [],
   "source": []
  },
  {
   "cell_type": "code",
   "execution_count": null,
   "id": "88a257c5",
   "metadata": {},
   "outputs": [],
   "source": []
  }
 ],
 "metadata": {
  "kernelspec": {
   "display_name": "Python 3 (ipykernel)",
   "language": "python",
   "name": "python3"
  },
  "language_info": {
   "codemirror_mode": {
    "name": "ipython",
    "version": 3
   },
   "file_extension": ".py",
   "mimetype": "text/x-python",
   "name": "python",
   "nbconvert_exporter": "python",
   "pygments_lexer": "ipython3",
   "version": "3.10.9"
  }
 },
 "nbformat": 4,
 "nbformat_minor": 5
}
