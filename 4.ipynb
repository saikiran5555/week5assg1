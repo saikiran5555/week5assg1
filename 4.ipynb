{
 "cells": [
  {
   "cell_type": "markdown",
   "id": "2adaa37c",
   "metadata": {},
   "source": [
    "a. try and else:\n",
    "The else clause in a try-except statement is optional and allows you to specify a block of code to be executed if no exceptions occur in the try block. It is typically used to handle the code that should run only if the try block completes successfully. Here's an example:"
   ]
  },
  {
   "cell_type": "code",
   "execution_count": 1,
   "id": "638a641b",
   "metadata": {},
   "outputs": [
    {
     "name": "stdout",
     "output_type": "stream",
     "text": [
      "Division result: 5.0\n"
     ]
    }
   ],
   "source": [
    "def divide(a, b):\n",
    "    try:\n",
    "        result = a / b\n",
    "    except ZeroDivisionError:\n",
    "        print(\"Cannot divide by zero.\")\n",
    "    else:\n",
    "        print(\"Division result:\", result)\n",
    "\n",
    "# Example: Division with valid inputs\n",
    "divide(10, 2)\n"
   ]
  },
  {
   "cell_type": "markdown",
   "id": "dddbb5ae",
   "metadata": {},
   "source": [
    "b. finally:\n",
    "The finally clause is optional and is used to specify a block of code that will be executed regardless of whether an exception occurs or not. It is typically used to clean up resources or perform necessary actions that should always be done. Here's an example:"
   ]
  },
  {
   "cell_type": "code",
   "execution_count": 2,
   "id": "7a68da8d",
   "metadata": {},
   "outputs": [
    {
     "name": "stdout",
     "output_type": "stream",
     "text": [
      "Division result: 5.0\n",
      "Division operation complete.\n",
      "Cannot divide by zero.\n",
      "Division operation complete.\n"
     ]
    }
   ],
   "source": [
    "def divide(a, b):\n",
    "    try:\n",
    "        result = a / b\n",
    "        print(\"Division result:\", result)\n",
    "    except ZeroDivisionError:\n",
    "        print(\"Cannot divide by zero.\")\n",
    "    finally:\n",
    "        print(\"Division operation complete.\")\n",
    "\n",
    "# Example 1: Division with valid inputs\n",
    "divide(10, 2)\n",
    "\n",
    "# Example 2: Division by zero\n",
    "divide(10, 0)\n"
   ]
  },
  {
   "cell_type": "markdown",
   "id": "31af59e9",
   "metadata": {},
   "source": [
    "c. raise:\n",
    "The raise statement is used to raise an exception explicitly in Python. It allows you to generate and throw exceptions based on specific conditions or requirements. Here's an example:"
   ]
  },
  {
   "cell_type": "code",
   "execution_count": 4,
   "id": "a4c303c6",
   "metadata": {},
   "outputs": [
    {
     "name": "stdout",
     "output_type": "stream",
     "text": [
      "Age is valid.\n",
      "Age is valid.\n"
     ]
    }
   ],
   "source": [
    "def check_age(age):\n",
    "    if age < 0:\n",
    "        raise ValueError(\"Age cannot be negative.\")\n",
    "    elif age > 120:\n",
    "        raise ValueError(\"Invalid age. Age cannot exceed 120.\")\n",
    "    else:\n",
    "        print(\"Age is valid.\")\n",
    "\n",
    "# Example 1: Valid age\n",
    "check_age(25)\n",
    "\n",
    "# Example 2: Negative age\n",
    "check_age(10)\n"
   ]
  },
  {
   "cell_type": "code",
   "execution_count": null,
   "id": "f077bfc8",
   "metadata": {},
   "outputs": [],
   "source": []
  }
 ],
 "metadata": {
  "kernelspec": {
   "display_name": "Python 3 (ipykernel)",
   "language": "python",
   "name": "python3"
  },
  "language_info": {
   "codemirror_mode": {
    "name": "ipython",
    "version": 3
   },
   "file_extension": ".py",
   "mimetype": "text/x-python",
   "name": "python",
   "nbconvert_exporter": "python",
   "pygments_lexer": "ipython3",
   "version": "3.10.9"
  }
 },
 "nbformat": 4,
 "nbformat_minor": 5
}
