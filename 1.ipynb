{
 "cells": [
  {
   "cell_type": "markdown",
   "id": "fc107a5c",
   "metadata": {},
   "source": [
    "In Python, an exception is an event that occurs during the execution of a program, which disrupts the normal flow of the program. It is an indication that something unexpected or erroneous has happened. When an exception occurs, the program raises an exception object, which can be caught and handled to gracefully recover from the error or terminate the program if necessary.\n",
    "Exceptions can occur due to various reasons, such as invalid input, file not found, network errors, division by zero, etc. Python provides a mechanism to handle exceptions using try-except blocks."
   ]
  },
  {
   "cell_type": "code",
   "execution_count": 1,
   "id": "7fe69b45",
   "metadata": {},
   "outputs": [
    {
     "name": "stdout",
     "output_type": "stream",
     "text": [
      "Cannot divide by zero.\n"
     ]
    }
   ],
   "source": [
    "try:\n",
    "    # Code that may raise an exception\n",
    "    result = 10 / 0  # Division by zero\n",
    "except ZeroDivisionError:\n",
    "    # Exception handling code\n",
    "    print(\"Cannot divide by zero.\")\n"
   ]
  },
  {
   "cell_type": "markdown",
   "id": "c1643cf9",
   "metadata": {},
   "source": [
    "The difference between exceptions and syntax errors:"
   ]
  },
  {
   "cell_type": "markdown",
   "id": "06a42dc5",
   "metadata": {},
   "source": [
    "Exceptions:\n",
    "\n",
    "Exceptions occur during the runtime of a program when something unexpected or erroneous happens.\n",
    "They disrupt the normal flow of the program and can be caught and handled using try-except blocks.\n",
    "Examples of exceptions include ZeroDivisionError, TypeError, FileNotFoundError, ValueError, etc.\n",
    "Exceptions can be raised explicitly using the raise statement or raised implicitly by built-in functions, methods, or operations when an error occurs."
   ]
  },
  {
   "cell_type": "markdown",
   "id": "3bb745d5",
   "metadata": {},
   "source": [
    "Syntax Errors:\n",
    "\n",
    "Syntax errors occur during the parsing or interpretation of the code, before the program starts executing.\n",
    "They are caused by violations of the Python syntax rules, such as missing colons, incorrect indentation, invalid variable names, etc.\n",
    "Syntax errors prevent the program from running and must be fixed before execution.\n",
    "Examples of syntax errors include SyntaxError, IndentationError, NameError (when an undefined variable is used), etc."
   ]
  }
 ],
 "metadata": {
  "kernelspec": {
   "display_name": "Python 3 (ipykernel)",
   "language": "python",
   "name": "python3"
  },
  "language_info": {
   "codemirror_mode": {
    "name": "ipython",
    "version": 3
   },
   "file_extension": ".py",
   "mimetype": "text/x-python",
   "name": "python",
   "nbconvert_exporter": "python",
   "pygments_lexer": "ipython3",
   "version": "3.10.9"
  }
 },
 "nbformat": 4,
 "nbformat_minor": 5
}
