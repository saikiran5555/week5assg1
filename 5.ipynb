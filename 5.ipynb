{
 "cells": [
  {
   "cell_type": "markdown",
   "id": "e138b976",
   "metadata": {},
   "source": [
    "Custom exceptions in Python allow you to define your own exception classes to represent specific types of errors or exceptional situations that are relevant to your application. They can provide more meaningful and descriptive error messages, encapsulate additional data or behavior, and allow you to handle specific exceptions in a more targeted manner. Let's look at an example to understand the need for custom exceptions:"
   ]
  },
  {
   "cell_type": "code",
   "execution_count": 6,
   "id": "bd3c5550",
   "metadata": {},
   "outputs": [],
   "source": [
    "class InsufficientFundsError(Exception):\n",
    "    def __init__(self, account, amount):\n",
    "        self.account = account\n",
    "        self.amount = amount\n",
    "        super().__init__(f\"Insufficient funds in {account}. Required: {amount}\")\n",
    "\n",
    "def get_account_balance(account):\n",
    "    # Implement logic to retrieve the account balance\n",
    "    # Return the balance value\n",
    "    return 5000  # Example balance value\n",
    "\n",
    "def withdraw(account, amount):\n",
    "    balance = get_account_balance(account)\n",
    "    if balance is None:\n",
    "        raise ValueError(\"Invalid account balance.\")\n",
    "    if amount > balance:\n",
    "        raise InsufficientFundsError(account, amount)\n",
    "    # Perform the withdrawal operation\n",
    "\n",
    "# Example: Withdrawal with insufficient funds\n",
    "account = \"Savings\"\n",
    "withdraw(account, 1000)\n",
    "try:\n",
    "    withdraw(account, 1000)\n",
    "except InsufficientFundsError as e:\n",
    "    print(str(e))\n",
    "    # Perform specific handling for insufficient funds\n",
    "    # Notify the user or take alternative actions\n",
    "\n"
   ]
  },
  {
   "cell_type": "markdown",
   "id": "54be64af",
   "metadata": {},
   "source": [
    "By defining a custom exception, we can differentiate between different types of exceptions and handle them specifically based on their nature. Custom exceptions help improve code clarity, modularity, and maintainability by providing a more structured way to handle specific exceptional cases in your application. They allow you to encapsulate the logic related to specific exceptions within the exception class itself, promoting cleaner and more organized code."
   ]
  },
  {
   "cell_type": "code",
   "execution_count": null,
   "id": "53873081",
   "metadata": {},
   "outputs": [],
   "source": []
  }
 ],
 "metadata": {
  "kernelspec": {
   "display_name": "Python 3 (ipykernel)",
   "language": "python",
   "name": "python3"
  },
  "language_info": {
   "codemirror_mode": {
    "name": "ipython",
    "version": 3
   },
   "file_extension": ".py",
   "mimetype": "text/x-python",
   "name": "python",
   "nbconvert_exporter": "python",
   "pygments_lexer": "ipython3",
   "version": "3.10.9"
  }
 },
 "nbformat": 4,
 "nbformat_minor": 5
}
